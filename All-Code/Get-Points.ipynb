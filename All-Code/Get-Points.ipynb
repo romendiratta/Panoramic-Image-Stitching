{
 "cells": [
  {
   "cell_type": "code",
   "execution_count": 13,
   "metadata": {},
   "outputs": [],
   "source": [
    "import numpy as np\n",
    "import scipy.io\n",
    "\n",
    "\n",
    "center = np.load('/Users/andrewdegler/desktop/cs639/Key.Net/test_im/KeyNet_default/test_im/key_city_center.png.kpt.npy')\n",
    "left = np.load('/Users/andrewdegler/desktop/cs639/Key.Net/test_im/KeyNet_default/test_im/key_city_left.png.kpt.npy')\n",
    "#key = np.load('/Users/andrewdegler/desktop/cs639/Key.Net/test_im/KeyNet_default/test_im/low-contrast-demo.png.kpt.npy')\n"
   ]
  },
  {
   "cell_type": "code",
   "execution_count": 14,
   "metadata": {},
   "outputs": [],
   "source": [
    "scipy.io.savemat('key_center.mat', {\"points\":center})\n",
    "scipy.io.savemat('key_left.mat', {\"points\":left})\n",
    "#scipy.io.savemat('key_new.mat', {\"points\":key})"
   ]
  },
  {
   "cell_type": "code",
   "execution_count": 15,
   "metadata": {},
   "outputs": [
    {
     "data": {
      "text/plain": [
       "array([[2.75771645e+02, 4.05879292e+02, 7.07106823e-01, 7.72253036e+01],\n",
       "       [1.90000000e+02, 3.58000000e+02, 1.00000006e+00, 7.60998001e+01],\n",
       "       [3.68402633e+02, 3.79716341e+02, 7.07106823e-01, 7.40179291e+01],\n",
       "       ...,\n",
       "       [1.74000000e+02, 1.59000000e+02, 1.00000006e+00, 2.64538731e-03],\n",
       "       [4.58912301e+02, 1.07480231e+02, 7.07106823e-01, 2.11931975e-03],\n",
       "       [3.13248304e+02, 2.24152850e+02, 7.07106823e-01, 1.39348104e-03]])"
      ]
     },
     "execution_count": 15,
     "metadata": {},
     "output_type": "execute_result"
    }
   ],
   "source": [
    "left"
   ]
  },
  {
   "cell_type": "code",
   "execution_count": null,
   "metadata": {},
   "outputs": [],
   "source": []
  },
  {
   "cell_type": "code",
   "execution_count": null,
   "metadata": {},
   "outputs": [],
   "source": []
  },
  {
   "cell_type": "code",
   "execution_count": null,
   "metadata": {},
   "outputs": [],
   "source": []
  },
  {
   "cell_type": "code",
   "execution_count": null,
   "metadata": {},
   "outputs": [],
   "source": []
  }
 ],
 "metadata": {
  "kernelspec": {
   "display_name": "Python 3",
   "language": "python",
   "name": "python3"
  },
  "language_info": {
   "codemirror_mode": {
    "name": "ipython",
    "version": 3
   },
   "file_extension": ".py",
   "mimetype": "text/x-python",
   "name": "python",
   "nbconvert_exporter": "python",
   "pygments_lexer": "ipython3",
   "version": "3.7.6"
  }
 },
 "nbformat": 4,
 "nbformat_minor": 4
}
